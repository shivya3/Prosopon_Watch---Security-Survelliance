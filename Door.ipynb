{
 "cells": [
  {
   "cell_type": "code",
   "execution_count": null,
   "id": "483d3bfd",
   "metadata": {},
   "outputs": [
    {
     "name": "stdout",
     "output_type": "stream",
     "text": [
      "Enter1\n",
      "Door Open\n",
      "Enter2\n",
      "Door closed\n"
     ]
    }
   ],
   "source": [
    "for i in range(10000000000000000):\n",
    "    a=int(input(\"Enter\"))\n",
    "    if(a==1):\n",
    "        print(\"Door Open\")\n",
    "    elif(a==2):\n",
    "        print(\"Door closed\")"
   ]
  },
  {
   "cell_type": "code",
   "execution_count": null,
   "id": "da90cada",
   "metadata": {},
   "outputs": [],
   "source": []
  }
 ],
 "metadata": {
  "kernelspec": {
   "display_name": "Python 3 (ipykernel)",
   "language": "python",
   "name": "python3"
  },
  "language_info": {
   "codemirror_mode": {
    "name": "ipython",
    "version": 3
   },
   "file_extension": ".py",
   "mimetype": "text/x-python",
   "name": "python",
   "nbconvert_exporter": "python",
   "pygments_lexer": "ipython3",
   "version": "3.11.0"
  }
 },
 "nbformat": 4,
 "nbformat_minor": 5
}
