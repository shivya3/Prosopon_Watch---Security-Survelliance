{
 "cells": [
  {
   "cell_type": "code",
   "execution_count": 4,
   "id": "ccaec4a2",
   "metadata": {},
   "outputs": [
    {
     "name": "stdout",
     "output_type": "stream",
     "text": [
      "CA1557be36083adbd0de33328b07f50ad6\n"
     ]
    }
   ],
   "source": [
    "from twilio.rest import Client\n",
    "account_sid = \"ACf41f8b23a3045d3baf3df899e92afb06\"\n",
    "auth_token = \"75e58ca998bf8bb900ed4146c62d49aa\"\n",
    "client = Client(account_sid, auth_token)\n",
    "call = client.calls.create(\n",
    "    twiml='<Response><Say>Someone has entered my Property can you please check it once and my address is ABC apartement....</Say></Response>',\n",
    "    to=\"+918178389777\",\n",
    "    from_=\"+15673721211\"\n",
    "    )\n",
    "print(call.sid)"
   ]
  },
  {
   "cell_type": "code",
   "execution_count": null,
   "id": "7b7fa147",
   "metadata": {},
   "outputs": [],
   "source": []
  }
 ],
 "metadata": {
  "kernelspec": {
   "display_name": "Python 3 (ipykernel)",
   "language": "python",
   "name": "python3"
  },
  "language_info": {
   "codemirror_mode": {
    "name": "ipython",
    "version": 3
   },
   "file_extension": ".py",
   "mimetype": "text/x-python",
   "name": "python",
   "nbconvert_exporter": "python",
   "pygments_lexer": "ipython3",
   "version": "3.11.0"
  }
 },
 "nbformat": 4,
 "nbformat_minor": 5
}
